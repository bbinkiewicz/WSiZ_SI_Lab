{
  "nbformat": 4,
  "nbformat_minor": 0,
  "metadata": {
    "colab": {
      "name": "Untitled0.ipynb",
      "provenance": [],
      "collapsed_sections": [],
      "include_colab_link": true
    },
    "kernelspec": {
      "name": "python3",
      "display_name": "Python 3"
    }
  },
  "cells": [
    {
      "cell_type": "markdown",
      "metadata": {
        "id": "view-in-github",
        "colab_type": "text"
      },
      "source": [
        "<a href=\"https://colab.research.google.com/github/bbinkiewicz/WSiZ_SI_Lab/blob/master/Lab2.ipynb\" target=\"_parent\"><img src=\"https://colab.research.google.com/assets/colab-badge.svg\" alt=\"Open In Colab\"/></a>"
      ]
    },
    {
      "cell_type": "code",
      "metadata": {
        "id": "LlUa8iasnhDD",
        "colab_type": "code",
        "colab": {}
      },
      "source": [
        "from sklearn import datasets\n",
        "import pandas as pd\n",
        "\n",
        "# Wczytaj przykładowy zbiór danych - dane dotyczące trzech gatunków Irysów\n",
        "iris = datasets.load_iris()\n",
        "\n",
        "# Zobaczmy jakie dane mamy w zbiorze\n",
        "print('Elementy zbioru: ', list(iris.keys()))\n",
        "\n",
        "# Zobaczmy jak wyglądają elementy zbioru\n",
        "print('Typ pierwszego elementu z \\'data\\': ', type(iris['data'][0]))\n",
        "print('Kilka pierwszych elementów:')\n",
        "print(iris['data'][0:5])\n",
        "\n",
        "# Kwiaty mają swoje etykiety numeryczne...\n",
        "print('Pierwszy kwiat w zbiorze to: ', iris['target'][0])\n",
        "\n",
        "# ... a odpowiadające im nazwy są osobno\n",
        "print('Pierwszy kwiat w zbiorze (słownie) to: ', iris['target_names'][0])\n",
        "\n",
        "# Etykiety które występują\n",
        "print('Cechy irysów w zbiorze to: ', iris['feature_names'])\n"
      ],
      "execution_count": 0,
      "outputs": []
    },
    {
      "cell_type": "code",
      "metadata": {
        "id": "7fZsPbYTnuX9",
        "colab_type": "code",
        "colab": {}
      },
      "source": [
        "#zad1\n",
        "# opis \n",
        "print(iris.DESCR)\n",
        "#pelna lista danych\n",
        "print(iris.data)\n",
        "#gatunki irysow wystepujace w zbiorze\n",
        "print('gatunki irysow wystepujace w zbiorze:')\n",
        "print(iris.target_names)\n",
        "#jest to zbiór zawierający dane o 3 gatunkach(klasach) irysów:  Setosa(0), Versicolour(1), Virginica(2). Zbiór zawiera po 50 próbek z każdej klasy -\n",
        "#razem 150. Poza klasą każdy rekord opisany jest również przy pomocy atrybutów(iris.feature_names): petal length, petal width, sepal length, sepal width\n",
        "\n",
        "\n",
        "\n",
        "\n"
      ],
      "execution_count": 0,
      "outputs": []
    },
    {
      "cell_type": "code",
      "metadata": {
        "id": "FVfN_-R5ip-p",
        "colab_type": "code",
        "colab": {}
      },
      "source": [
        "#zad2\n",
        "from sklearn.neighbors import KNeighborsClassifier\n",
        "from sklearn.model_selection import train_test_split\n",
        "from sklearn.metrics import classification_report, confusion_matrix\n",
        "import matplotlib.pyplot as plt\n",
        "\n",
        "X = iris.data\n",
        "y = iris.target\n",
        "\n",
        "# Używamy funkcji do podzielenia zbioru na zbiór uczący i zbiór testowy\n",
        "X_train, X_test, y_train, y_test = train_test_split(X, y)\n",
        "\n",
        "#lista wartosci dla parametru n_neighbors\n",
        "lista_n = [1,3,5,10]\n",
        "dokladnosci = []\n",
        "\n",
        "for n_neighb in lista_n:\n",
        "    #tworzenie klasyfikatora\n",
        "    knn = KNeighborsClassifier(n_neighbors = n_neighb)\n",
        "    #uczenie klasyfikatora na zbiorze uczącym\n",
        "    knn.fit(X_train, y_train)\n",
        "    #sprawdzenie dokladnosci\n",
        "    dokladnosc = knn.score(X_test, y_test)\n",
        "    dokladnosci.append(dokladnosc)\n",
        "   \n",
        "#stworzenie dataFrame w celu zobrazowania zaleznosci w postaci tabeli...\n",
        "df = pd.DataFrame({'n_neighbors' : lista_n, 'dokladnosc' : dokladnosci})    \n",
        "print(df)\n",
        "\n",
        "#...oraz wykresu\n",
        "plt.plot(lista_n, dokladnosci)\n",
        "plt.show()\n"
      ],
      "execution_count": 0,
      "outputs": []
    },
    {
      "cell_type": "code",
      "metadata": {
        "id": "-AgtBaSsoItz",
        "colab_type": "code",
        "colab": {}
      },
      "source": [
        "#zad3\n",
        "from sklearn.datasets import load_wine\n",
        "import numpy as np\n",
        "import seaborn as sns\n",
        "\n",
        "wines = load_wine()\n",
        "#sprawdzamy zawartosc slownika:\n",
        "for key,value in wines.items():\n",
        "    print(key,'\\n',value,'\\n')\n",
        "#stworzenie dataFrame\n",
        "df = pd.DataFrame(data=wines.data,columns=wines.feature_names)\n",
        "#wyswietlenie pierwszych 10 rekordow\n",
        "df.head(10)\n",
        "print('------------------------------------------------')\n",
        "\n",
        "# doklejenie informacji o klasie do reszty dataframe \n",
        "df['class'] = np.array(list(wines.target))\n",
        "# wykresy\n",
        "# sns.pairplot(df, hue='class')\n",
        "# plt.show()\n",
        "print('------------------------------------------------')\n",
        "\n",
        "#podzial zbioru na cechy i etykiety\n",
        "X = wines.data\n",
        "y = wines.target\n",
        "\n",
        "# podział na zbiór uczący i zbiór testowy\n",
        "X_train, X_test, y_train, y_test = train_test_split(X, y)\n",
        "\n",
        "    #tworzenie klasyfikatora\n",
        "knn = KNeighborsClassifier(n_neighbors =5)\n",
        "    #uczenie klasyfikatora na zbiorze uczącym\n",
        "knn.fit(X_train, y_train)\n",
        "    #predykcja\n",
        "y_pred = knn.predict(X_test)\n",
        "print('raport z uczenia:')\n",
        "print(confusion_matrix(y_test, y_pred))\n",
        "print(classification_report(y_test, y_pred))\n",
        "\n",
        "\n",
        "\n"
      ],
      "execution_count": 0,
      "outputs": []
    }
  ]
}