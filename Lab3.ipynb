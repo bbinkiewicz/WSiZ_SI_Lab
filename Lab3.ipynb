{
  "nbformat": 4,
  "nbformat_minor": 0,
  "metadata": {
    "colab": {
      "name": "Lab3.ipynb",
      "provenance": [],
      "collapsed_sections": [],
      "include_colab_link": true
    },
    "kernelspec": {
      "name": "python3",
      "display_name": "Python 3"
    }
  },
  "cells": [
    {
      "cell_type": "markdown",
      "metadata": {
        "id": "view-in-github",
        "colab_type": "text"
      },
      "source": [
        "<a href=\"https://colab.research.google.com/github/bbinkiewicz/WSiZ_SI_Lab/blob/master/Lab3.ipynb\" target=\"_parent\"><img src=\"https://colab.research.google.com/assets/colab-badge.svg\" alt=\"Open In Colab\"/></a>"
      ]
    },
    {
      "cell_type": "code",
      "metadata": {
        "id": "X73TS0xCCFsr",
        "colab_type": "code",
        "outputId": "49c857bf-31b1-49d6-e99b-e35ead3e7ef0",
        "colab": {
          "base_uri": "https://localhost:8080/",
          "height": 412
        }
      },
      "source": [
        "from sklearn.datasets import load_boston\n",
        "import matplotlib.pyplot as plt\n",
        "import pandas as pd\n",
        "import numpy as np\n",
        "import seaborn as sns\n",
        "\n",
        "from sklearn.model_selection import train_test_split\n",
        "from sklearn.metrics import r2_score\n",
        "from sklearn.linear_model import LinearRegression\n",
        "from sklearn.model_selection import cross_val_score\n",
        "%matplotlib inline\n",
        "\n",
        "\n",
        "\n",
        "# Wczytanie zbioru cech nieruchomości i ich cen\n",
        "boston_nieruchomosci = load_boston()\n",
        "\n",
        "boston_df = pd.DataFrame(boston_nieruchomosci['data'], columns=boston_nieruchomosci['feature_names'])\n",
        "\n",
        "# doklejenie informacji o cenie do reszty dataframe\n",
        "boston_df['target'] = np.array(list(boston_nieruchomosci['target']))\n",
        "\n",
        "#do przewidywania cen wybrana zostala cecha PTRATIO\n",
        "PTRATIO = boston_nieruchomosci['data'][:, np.newaxis, 10]\n",
        "\n",
        "# Stworzenie regresora liniowego\n",
        "linreg = LinearRegression()\n",
        "X_train, X_test, y_train, y_test = train_test_split(PTRATIO, boston_nieruchomosci['target'])\n",
        "linreg.fit(X_train, y_train)\n",
        "\n",
        "# przewidywanie ceny\n",
        "y_pred = linreg.predict(X_test)\n",
        "\n",
        "\n",
        "# domyślna metryka\n",
        "print('Metryka domyślna: ', linreg.score(X_test, y_test))\n",
        "\n",
        "print('Metryka r2: ', r2_score(y_test, y_pred))\n",
        "\n",
        "# współczynniki regresji\n",
        "print('Współczynniki regresji:\\n', linreg.coef_)\n",
        "\n",
        "# Wykres regresji\n",
        "plt.scatter(X_test, y_test, color='black')\n",
        "plt.plot(X_test, y_pred, color='blue', linewidth=2)\n",
        "plt.show()\n",
        "\n",
        "print('uzycie metryki max_error:')\n",
        "cv_score_ev = cross_val_score(linreg, PTRATIO, boston_nieruchomosci.target, cv=5, scoring='max_error')\n",
        "print(cv_score_ev)\n",
        "\n",
        "print('uzycie metryki neg_median_absolute_error:')\n",
        "cv_score_mse = cross_val_score(linreg, PTRATIO, boston_nieruchomosci.target, cv=5, scoring='neg_median_absolute_error')\n",
        "print(cv_score_mse)\n"
      ],
      "execution_count": 91,
      "outputs": [
        {
          "output_type": "stream",
          "text": [
            "Metryka domyślna:  0.3859729235058752\n",
            "Metryka r2:  0.3859729235058752\n",
            "Współczynniki regresji:\n",
            " [-1.97276668]\n"
          ],
          "name": "stdout"
        },
        {
          "output_type": "display_data",
          "data": {
            "image/png": "[encoded data removed]",
            "text/plain": [
              "<Figure size 432x288 with 1 Axes>"
            ]
          },
          "metadata": {
            "tags": []
          }
        },
        {
          "output_type": "stream",
          "text": [
            "uzycie metryki max_error:\n",
            "[-20.34193906 -25.39149682 -26.71468572 -31.17196363 -15.09719462]\n",
            "uzycie metryki neg_median_absolute_error:\n",
            "[-2.91263479 -5.30850318 -4.09971088 -4.92803637 -5.16025107]\n"
          ],
          "name": "stdout"
        }
      ]
    }
  ]
}